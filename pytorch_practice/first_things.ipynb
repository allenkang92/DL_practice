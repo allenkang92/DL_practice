{
 "cells": [
  {
   "cell_type": "markdown",
   "metadata": {},
   "source": [
    "1) 프레임워크란?\n",
    "딥러닝 뿐만 아니라 다양한 웹, 앱, 네트워크 등 다양한 프로그래밍 분야가 존재함.\n",
    "프로그램을 다룸에 있어서, 공통적으로 사용되는 기능들을 표준화된 소스코드로 만들어 놓고 사용할 수 있도록 제공하는 것 \n",
    "== 프레임워크\n",
    "\n",
    "딥러닝에도 기초 함수부터 복잡한 신경망 등이 구현되어 있는 여러 가지 프레임워크가 있고 pytorch도 그 중 하나임.\n",
    "\n",
    "2) 딥러닝 프레임워크의 종류와 특징\n",
    "개발에 사용되는 언어와 사용하는 방식에 따라 설계가 조금씩 달라지기 때문에 딥러닝 프레임워크도 그 숫자가 많다.\n",
    "그 중 대표적으로 사용되는 프레임워크는 텐서플로우, 파이토치 두 가지가 있음. \n",
    "\n",
    "![poster](./pytorch_practice/import_first.png)\n",
    "\n"
   ]
  },
  {
   "cell_type": "code",
   "execution_count": null,
   "metadata": {},
   "outputs": [],
   "source": []
  }
 ],
 "metadata": {
  "language_info": {
   "name": "python"
  }
 },
 "nbformat": 4,
 "nbformat_minor": 2
}
